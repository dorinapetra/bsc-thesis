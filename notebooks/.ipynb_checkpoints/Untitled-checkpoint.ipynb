{
 "cells": [
  {
   "cell_type": "code",
   "execution_count": 7,
   "id": "906936a7",
   "metadata": {},
   "outputs": [
    {
     "name": "stdout",
     "output_type": "stream",
     "text": [
      "The autoreload extension is already loaded. To reload it, use:\n",
      "  %reload_ext autoreload\n"
     ]
    }
   ],
   "source": [
    "import pandas as pd\n",
    "import matplotlib.pyplot as plt\n",
    "from collections import defaultdict\n",
    "import seaborn as sns\n",
    "sns.set_palette(sns.color_palette('Set2')[::2])\n",
    "sns.set_context('paper', font_scale=1.5)\n",
    "\n",
    "heatmap_cmap = 'GnBu'\n",
    "\n",
    "import scipy\n",
    "from scipy.stats import ttest_rel, beta, ttest_ind\n",
    "from sklearn.cluster import KMeans\n",
    "import numpy as np\n",
    "import os\n",
    "import yaml\n",
    "import shutil\n",
    "from collections import OrderedDict\n",
    "\n",
    "from utils import quick_load_experiments_tsv, get_significance_by_column, add_probing_location_better_column\n",
    "from common import lang2code, code2lang, lang2family, family2langs\n",
    "\n",
    "figure_dir = \"fig/tokenization\"\n",
    "os.makedirs(\"fig\", exist_ok=True)\n",
    "os.makedirs(figure_dir, exist_ok=True)\n",
    "\n",
    "np.random.seed(2)\n",
    "\n",
    "%load_ext autoreload\n",
    "%autoreload 2\n",
    "\n",
    "%matplotlib inline"
   ]
  },
  {
   "cell_type": "code",
   "execution_count": null,
   "id": "7e9597de",
   "metadata": {},
   "outputs": [],
   "source": []
  },
  {
   "cell_type": "code",
   "execution_count": null,
   "id": "0fe836cc",
   "metadata": {},
   "outputs": [],
   "source": []
  },
  {
   "cell_type": "code",
   "execution_count": 10,
   "id": "008c5693",
   "metadata": {},
   "outputs": [
    {
     "name": "stdout",
     "output_type": "stream",
     "text": [
      "319\n"
     ]
    }
   ],
   "source": [
    "def get_model(row):\n",
    "    model = \"mBERT\"\n",
    "    if row[\"randomize_embedding_weights\"]:\n",
    "        model = model + \"-rand\"\n",
    "        if row[\"use_character_tokenization\"] == \"full\":\n",
    "            model = model + \"-char\"\n",
    "        else:\n",
    "            model = model + \"-subw\"\n",
    "    else:\n",
    "        if row[\"use_character_tokenization\"] == \"full\":\n",
    "            model = model + \"-char\"\n",
    "        else:\n",
    "            model\n",
    "    return model\n",
    "\n",
    "def get_model2(row):\n",
    "    if row[\"perturbation\"] == \"mBERT\":\n",
    "        return np.nan\n",
    "    return row[\"perturbation\"]\n",
    "\n",
    "\n",
    "\n",
    "exps = pd.read_table(\"../dataframes/cased_experiments.tsv\", sep=\"\\t\", quoting=3)\n",
    "\n",
    "exps[\"task\"] = exps[\"feature\"]\n",
    "exps[\"perturbation\"] = exps.apply(get_model, axis=1)\n",
    "exps[\"probing_location\"] = exps[\"subword_pooling\"]\n",
    "\n",
    "exps[\"model\"] = \"mBERT\"\n",
    "\n",
    "exps = exps[[\"model\", \"language\", \"task\", \"dev_acc\", \"test_acc\", \"perturbation\", \"probing_location\"]]\n",
    "\n",
    "#exps['tag'] = exps['task'].apply(lambda t: t.split(\"_\")[0])\n",
    "#exps['pos'] = exps['task'].apply(lambda t: t.split(\"_\")[1])\n",
    "#exps['full_task'] = exps['language'] + ' ' + exps['task']\n",
    "#exps['family'] = exps['language'].apply(lambda l: lang2family[l])\n",
    "exps[\"test_acc\"] = exps[\"test_acc\"].apply(lambda a: a * 100)\n",
    "exps = exps.groupby([\"model\", \"language\", \"task\", \"perturbation\", \"probing_location\"]).mean().reset_index()\n",
    "\n",
    "#exps1 = add_probing_location_better_column(exps)\n",
    "exps1[\"perturbation\"] = exps1.apply(get_model2, axis=1)\n",
    "\n",
    "exps.to_csv(\"all_char_experiments.tsv\", sep='\\t')\n",
    "\n",
    "\n"
   ]
  },
  {
   "cell_type": "code",
   "execution_count": null,
   "id": "6aa6ad6d",
   "metadata": {},
   "outputs": [],
   "source": []
  }
 ],
 "metadata": {
  "kernelspec": {
   "display_name": "Python 3",
   "language": "python",
   "name": "python3"
  },
  "language_info": {
   "codemirror_mode": {
    "name": "ipython",
    "version": 3
   },
   "file_extension": ".py",
   "mimetype": "text/x-python",
   "name": "python",
   "nbconvert_exporter": "python",
   "pygments_lexer": "ipython3",
   "version": "3.8.5"
  }
 },
 "nbformat": 4,
 "nbformat_minor": 5
}
